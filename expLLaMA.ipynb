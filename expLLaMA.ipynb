{
  "cells": [
    {
      "cell_type": "markdown",
      "metadata": {
        "id": "view-in-github",
        "colab_type": "text"
      },
      "source": [
        "<a href=\"https://colab.research.google.com/github/kaitlin-ho/tests/blob/main/expLLaMA.ipynb\" target=\"_parent\"><img src=\"https://colab.research.google.com/assets/colab-badge.svg\" alt=\"Open In Colab\"/></a>"
      ]
    },
    {
      "cell_type": "markdown",
      "source": [
        "# LLaMA Valuation Consistency Experiments\n",
        "\n",
        "**ATTENTION!** Remember to change the value of the $\\texttt{AUTHKEY}$ variable below to the authorization key associated with your LLaMA API account"
      ],
      "metadata": {
        "id": "9GHDW_Wm7vpi"
      },
      "id": "9GHDW_Wm7vpi"
    },
    {
      "cell_type": "markdown",
      "source": [
        "## TODO: Experiment Description"
      ],
      "metadata": {
        "id": "86eNGPNU74fs"
      },
      "id": "86eNGPNU74fs"
    },
    {
      "cell_type": "markdown",
      "source": [
        "## Initialization and Setup"
      ],
      "metadata": {
        "id": "rcbZPBvsvBr8"
      },
      "id": "rcbZPBvsvBr8"
    },
    {
      "cell_type": "markdown",
      "source": [
        "### Install and import stuff\n"
      ],
      "metadata": {
        "id": "j2skJGBovMca"
      },
      "id": "j2skJGBovMca"
    },
    {
      "cell_type": "code",
      "execution_count": null,
      "id": "5e1329a8",
      "metadata": {
        "colab": {
          "base_uri": "https://localhost:8080/"
        },
        "id": "5e1329a8",
        "outputId": "efcbcde5-1639-4a68-f714-b0c57295c5b5"
      },
      "outputs": [
        {
          "output_type": "stream",
          "name": "stdout",
          "text": [
            "Requirement already satisfied: preflibtools in /usr/local/lib/python3.10/dist-packages (2.0.13)\n",
            "Requirement already satisfied: numpy in /usr/local/lib/python3.10/dist-packages (from preflibtools) (1.23.5)\n",
            "Requirement already satisfied: mip in /usr/local/lib/python3.10/dist-packages (from preflibtools) (1.15.0)\n",
            "Requirement already satisfied: cffi==1.15.* in /usr/local/lib/python3.10/dist-packages (from mip->preflibtools) (1.15.1)\n",
            "Requirement already satisfied: pycparser in /usr/local/lib/python3.10/dist-packages (from cffi==1.15.*->mip->preflibtools) (2.21)\n"
          ]
        }
      ],
      "source": [
        "import numpy as np\n",
        "import random\n",
        "import requests\n",
        "import json\n",
        "\n",
        "# for LLaMA stuff\n",
        "# !python.exe -m pip install --upgrade pip\n",
        "!pip install llamaapi -q\n",
        "from llamaapi import LlamaAPI\n",
        "\n",
        "# for PrefLib\n",
        "!pip install preflibtools\n",
        "import preflibtools as pt"
      ]
    },
    {
      "cell_type": "markdown",
      "source": [
        "### Setup access to OpenAI\n",
        "\n",
        "\n",
        "ATTENTION! Remember to change the value of the AUTHKEY variable below to the authorization key associated with your OpenAI account\n",
        "\n",
        "#### OpenAI developer account and authentication\n",
        "- Go to https://www.llama-api.com/\n",
        "- Login using the Google authorization method using your binghamton.edu account\n",
        "\n",
        "#### API Authentication\n",
        "- Read documentation [here](https://docs.llama-api.com/quickstart)\n",
        "- Set up your access key [here](https://www.llama-api.com/account/api-token) (requires authentication)"
      ],
      "metadata": {
        "id": "4Q7GZX8Avqud"
      },
      "id": "4Q7GZX8Avqud"
    },
    {
      "cell_type": "code",
      "execution_count": null,
      "id": "e9357d57",
      "metadata": {
        "id": "e9357d57"
      },
      "outputs": [],
      "source": [
        "### !!! Change this !!! ###\n",
        "AUTHKEY = 'LL-tS21HkvlA4TGg9qivdpwSCGuFkasPS5zvE9CbARq0feHbnWMPwAp5d5G6KI3CnN6'\n",
        "######### !!! #############\n",
        "MODEL = \"llama-13b-chat\"\n",
        "\n",
        "llama = LlamaAPI(AUTHKEY) # we will make requests using this object later"
      ]
    },
    {
      "cell_type": "markdown",
      "source": [
        "## Experiments start here\n",
        "\n",
        "TODO: Move the experiments setup code to its own notebook or python file"
      ],
      "metadata": {
        "id": "me30W382ukNw"
      },
      "id": "me30W382ukNw"
    },
    {
      "cell_type": "markdown",
      "source": [
        "### Experiment setup"
      ],
      "metadata": {
        "id": "B54Llb9gu5_u"
      },
      "id": "B54Llb9gu5_u"
    },
    {
      "cell_type": "markdown",
      "source": [
        "#### Assumptions:\n",
        "- Finite number of agents and items\n",
        "- Items are indivisible\n",
        "- Exactly one unit of each item is available. If there are two similar items, they are listed separately\n",
        "\n",
        "#### Conventions\n",
        "- N refers to the number of agents, and agents will be indexed by i\n",
        "- M refers to the number of items, and items will be indexed by j\n",
        "- If an agent's value for an item is non-negative, it will be referred to as a good, and otherwise it will be referred to as a chore\n",
        "- All vectors are column vectors unless clearly documented to be otherwise, i.e., a vector with k components is represented by a k x 1 array.\n",
        "- Names of agents and items are sampled without replacement"
      ],
      "metadata": {
        "id": "R-pFn-h-v9Uq"
      },
      "id": "R-pFn-h-v9Uq"
    },
    {
      "cell_type": "code",
      "source": [
        "\"\"\"\n",
        "Configuration stuff\n",
        "\"\"\"\n",
        "\n",
        "N = 2 # number of agents\n",
        "\n",
        "M = 3 # number of items\n",
        "\n",
        "num_instances = 1 # number of instances\n",
        "\n",
        "# Define different pools of agent names\n",
        "agentNamePools = {\n",
        "    'default': ['Alice', 'Bob', 'Carol']\n",
        "}\n",
        "\n",
        "# Define different pools of item names\n",
        "itemNamePools = {\n",
        "    'fruits': ['apple', 'banana', 'orange'],\n",
        "    'vegetables': ['asparagus', 'broccoli', 'potato'],\n",
        "    'gems': ['diamond', 'emerald', 'ruby'],\n",
        "    'houses': ['apartment', 'bungalow', 'villa'],\n",
        "    'cars': ['buick', 'cadillac', 'ford']\n",
        "}\n",
        "\n",
        "# Define how many names should be sampled from each pool\n",
        "agentPoolSampling = {\n",
        "    'default': 2\n",
        "}\n",
        "\n",
        "for k in agentPoolSampling.keys():\n",
        "    assert(k in agentNamePools)\n",
        "    assert(agentPoolSampling[k] <= len(agentNamePools[k]))\n",
        "assert(np.sum([agentPoolSampling[k] for k in agentPoolSampling.keys()]) == N)\n",
        "\n",
        "itemPoolSampling = {\n",
        "    'fruits': 2,\n",
        "    'vegetables': 1\n",
        "}\n",
        "\n",
        "for k in itemPoolSampling.keys():\n",
        "    assert(k in itemNamePools)\n",
        "    assert(itemPoolSampling[k] <= len(itemNamePools[k]))\n",
        "assert(np.sum([itemPoolSampling[k] for k in itemPoolSampling.keys()]) == M)\n",
        "\n",
        "print(\"good config\")"
      ],
      "metadata": {
        "colab": {
          "base_uri": "https://localhost:8080/"
        },
        "id": "zGKvSA7mvxbd",
        "outputId": "faa2c00d-8b2e-4982-9e7e-ab786496288c"
      },
      "id": "zGKvSA7mvxbd",
      "execution_count": null,
      "outputs": [
        {
          "output_type": "stream",
          "name": "stdout",
          "text": [
            "good config\n"
          ]
        }
      ]
    },
    {
      "cell_type": "markdown",
      "source": [
        "### Set Agent and Item Names"
      ],
      "metadata": {
        "id": "gE0wBJZgF_pG"
      },
      "id": "gE0wBJZgF_pG"
    },
    {
      "cell_type": "code",
      "source": [
        "\"\"\"\n",
        "Set agent and item names\n",
        "TODO: Put it in a loop to generate a large number of instances\n",
        "\"\"\"\n",
        "\n",
        "agentNames = []\n",
        "for k in agentPoolSampling.keys():\n",
        "    agentNames += random.sample(agentNamePools[k], agentPoolSampling[k])\n",
        "\n",
        "itemNames = []\n",
        "for k in itemPoolSampling.keys():\n",
        "    itemNames += random.sample(itemNamePools[k], itemPoolSampling[k])"
      ],
      "metadata": {
        "id": "x8rycs_px6_l"
      },
      "id": "x8rycs_px6_l",
      "execution_count": null,
      "outputs": []
    },
    {
      "cell_type": "markdown",
      "source": [
        "### Set Valuations\n",
        "\n",
        "Use the Preflib python library\n",
        "See documentation [here](https://preflib.github.io/preflibtools/reference/instances/sampling.html)"
      ],
      "metadata": {
        "id": "N8MNyM3UGFNc"
      },
      "id": "N8MNyM3UGFNc"
    },
    {
      "cell_type": "code",
      "source": [
        "\"\"\"\n",
        "Set agents' valuations for items\n",
        "TODO: Put it in a loop to generate a large number of instances\n",
        "\"\"\"\n",
        "\n",
        "def generate_valuations_IC(N, M, num_instances=1, low=1, high=10):\n",
        "    \"\"\"\n",
        "    Generate instances where valuations are integers drawn from the uniform distribution over [low, high]\n",
        "    Input:\n",
        "        N: integer, number of agents\n",
        "        M: integer, number of items\n",
        "        num_instances: integer, number of instances to generate\n",
        "        low: integer, lowest possible value of an item\n",
        "        high: integer, highest possible value of an item\n",
        "    Output:\n",
        "        instances: a list of instances\n",
        "                   each instances is a 2D N x M numpy array\n",
        "                   whose i,j-th entry is the value that agent i has for item j\n",
        "    \"\"\"\n",
        "    assert(low <= high)\n",
        "    assert(num_instances > 0)\n",
        "    instances = []\n",
        "    for k in range(num_instances):\n",
        "        val = np.zeros((N, M))\n",
        "        for i in range(N):\n",
        "            for j in range(M):\n",
        "                val[i, j] = random.randint(low, high+1)\n",
        "        instances.append(val)\n",
        "    return instances"
      ],
      "metadata": {
        "id": "IVoR8_GCGJZt"
      },
      "id": "IVoR8_GCGJZt",
      "execution_count": null,
      "outputs": []
    },
    {
      "cell_type": "code",
      "execution_count": null,
      "id": "f3aeea5d",
      "metadata": {
        "id": "f3aeea5d"
      },
      "outputs": [],
      "source": [
        "instances = generate_valuations_IC(N, M)"
      ]
    },
    {
      "cell_type": "markdown",
      "source": [
        "### Generate allocations"
      ],
      "metadata": {
        "id": "jMF-ltal_C9l"
      },
      "id": "jMF-ltal_C9l"
    },
    {
      "cell_type": "code",
      "source": [
        "\"\"\"\n",
        "Generate allocations\n",
        "TODO: More sophisticated ways to generate allocations\n",
        "\"\"\"\n",
        "\n",
        "def generate_allocation_uniform(N, M):\n",
        "    \"\"\"\n",
        "    Input:\n",
        "        N: integer, number of agents\n",
        "        M: integer, number of items\n",
        "    Output:\n",
        "        A: a 2D N x M numpy array\n",
        "           the i, j-th entry is either 1 or 0 indicating whether agent i receives item j\n",
        "    \"\"\"\n",
        "    A = np.zeros((N, M))\n",
        "    for j in range(M):\n",
        "        i = random.randint(0, N-1)\n",
        "        A[i, j] = 1\n",
        "    return A"
      ],
      "metadata": {
        "id": "AXkSNU6t_I81"
      },
      "id": "AXkSNU6t_I81",
      "execution_count": null,
      "outputs": []
    },
    {
      "cell_type": "code",
      "source": [
        "\"\"\"\n",
        "TODO: Put this is a loop or something appropriate to run an experiment\n",
        "\"\"\"\n",
        "A = generate_allocation_uniform(2, 3)\n",
        "allocations = []\n",
        "allocations.append(A)\n",
        "print(allocations)"
      ],
      "metadata": {
        "colab": {
          "base_uri": "https://localhost:8080/"
        },
        "id": "cMH_n38fAGOr",
        "outputId": "66e0ab7e-5f1e-4da2-e8de-c822387c6b97"
      },
      "id": "cMH_n38fAGOr",
      "execution_count": null,
      "outputs": [
        {
          "output_type": "stream",
          "name": "stdout",
          "text": [
            "[array([[0., 1., 0.],\n",
            "       [1., 0., 1.]])]\n"
          ]
        }
      ]
    },
    {
      "cell_type": "markdown",
      "source": [
        "### Prompt Engineering"
      ],
      "metadata": {
        "id": "HqK87iHku0Ap"
      },
      "id": "HqK87iHku0Ap"
    },
    {
      "cell_type": "code",
      "source": [
        "def generate_valuation_text(valuation, agentNames, itemNames):\n",
        "    \"\"\"\n",
        "    Input:\n",
        "        val: a 2D N x M numpy array describing a valuation profile\n",
        "             whose i,j-th entry is the value that agent i has for item j\n",
        "        agentNames: a list of strings consisting of the names of the agents\n",
        "        itemNames: a list of strings consisting of the names of the items\n",
        "    Output:\n",
        "        valText: a string which describes a valuation profile\n",
        "    \"\"\"\n",
        "    (N, M) = valuation.shape\n",
        "    assert(len(agentNames) == N)\n",
        "    assert(len(itemNames) == M)\n",
        "    valText = ''\n",
        "    agentText = f'There are {N} agents named ' + ', '.join(agentNames[:N-1]) + f' and {agentNames[N-1]}\\n'\n",
        "    valText += agentText\n",
        "    itemText  = f'There are {M} items named ' + ', '.join(itemNames[:M-1]) + f' and {itemNames[M-1]}\\n'\n",
        "    valText += itemText\n",
        "    # now, create a table describing the valuation profile in csv format\n",
        "    valTable = f'In this table, each person\\'s value for items {itemText} are listed with the assigned values.\\n'\n",
        "    valHeader = f', ' + ', '.join(itemNames) + '\\n'\n",
        "    valRows = ''\n",
        "    for i in range(N):\n",
        "        iVal = [str(valuation[i, j]) for j in range(M)]\n",
        "        valRows += agentNames[i] + ', ' + ', '.join(iVal) + '\\n'\n",
        "    valText += valTable + valHeader + valRows\n",
        "    return valText"
      ],
      "metadata": {
        "id": "WNMQAqFH3DeU"
      },
      "id": "WNMQAqFH3DeU",
      "execution_count": null,
      "outputs": []
    },
    {
      "cell_type": "code",
      "source": [
        "def generate_allocation_text(allocation, agentNames, itemNames):\n",
        "    (N, M) = allocation.shape\n",
        "    assert(len(agentNames) == N)\n",
        "    assert(len(itemNames) == M)\n",
        "    allocText = ''\n",
        "    itemQuantText = 'There are '\n",
        "    for j in range(M-1):\n",
        "        itemQuantText += f'{np.sum(allocation[:, j])} number of {itemNames[j]}s, '\n",
        "    itemQuantText += f'and 1 {itemNames[M-1]} \\n'\n",
        "    allocText += itemQuantText\n",
        "    itemText  = f'There are {M} items named ' + ', '.join(itemNames[:M-1]) + f' and {itemNames[M-1]}\\n'\n",
        "    allocDescText = f'This table shows an allocation. Each person\\'s allocations of {itemText} are listed, with the assigned values.\\n'\n",
        "    allocHeader = f', ' + ', '.join(itemNames) + '\\n'\n",
        "    allocRows = ''\n",
        "    for i in range(N):\n",
        "        iAlloc = [str(allocation[i, j]) for j in range(M)]\n",
        "        allocRows += agentNames[i] + ', ' + ', '.join(iAlloc) + '\\n'\n",
        "    allocText += allocDescText + allocHeader + allocRows\n",
        "    return allocText"
      ],
      "metadata": {
        "id": "131Kcr_EAmJR"
      },
      "id": "131Kcr_EAmJR",
      "execution_count": null,
      "outputs": []
    },
    {
      "cell_type": "code",
      "source": [
        "\"\"\"\n",
        "Generate the prompt\n",
        "TODO:\n",
        "    Write a function that:\n",
        "        takes as input a pair of valuation and allocation\n",
        "        and outputs a query to ChatGPT\n",
        "    Put this in a loop for experiments\n",
        "\"\"\"\n",
        "queryText = ''\n",
        "valuation = instances[0]\n",
        "allocation = allocations[0]\n",
        "valText = generate_valuation_text(valuation, agentNames, itemNames)\n",
        "allocText = generate_allocation_text(allocation, agentNames, itemNames)\n",
        "queryText += valText + allocText\n",
        "queryText += f'Does {agentNames[0]} prefer their allocated items to the items {agentNames[1]} is allocation?'\n",
        "queryText += f'You may answer Yes or No. Do not explain.'\n",
        "\n",
        "print(queryText)"
      ],
      "metadata": {
        "colab": {
          "base_uri": "https://localhost:8080/"
        },
        "id": "rRMdwCR454vw",
        "outputId": "cc433166-5ec8-4c5b-9aa7-1f0dce9f8a4e"
      },
      "id": "rRMdwCR454vw",
      "execution_count": null,
      "outputs": [
        {
          "output_type": "stream",
          "name": "stdout",
          "text": [
            "There are 2 agents named Carol and Bob\n",
            "There are 3 items named apple, orange and broccoli\n",
            "In this table, each person's value for items There are 3 items named apple, orange and broccoli\n",
            " are listed with the assigned values.\n",
            ", apple, orange, broccoli\n",
            "Carol, 3.0, 4.0, 6.0\n",
            "Bob, 5.0, 1.0, 2.0\n",
            "There are 1.0 number of apples, 1.0 number of oranges, and 1 broccoli \n",
            "This table shows an allocation. Each person's allocations of There are 3 items named apple, orange and broccoli\n",
            " are listed, with the assigned values.\n",
            ", apple, orange, broccoli\n",
            "Carol, 0.0, 1.0, 0.0\n",
            "Bob, 1.0, 0.0, 1.0\n",
            "Does Carol prefer their allocated items to the items Bob is allocation?You may answer Yes or No. Do not explain.\n"
          ]
        }
      ]
    },
    {
      "cell_type": "code",
      "execution_count": null,
      "id": "c2ac5ddf",
      "metadata": {
        "colab": {
          "base_uri": "https://localhost:8080/"
        },
        "id": "c2ac5ddf",
        "outputId": "221b1e7c-da80-48d2-89e4-3b52d254ae3d"
      },
      "outputs": [
        {
          "output_type": "stream",
          "name": "stdout",
          "text": [
            "{\n",
            "  \"created\": 1707515130,\n",
            "  \"model\": \"llama-13b-chat\",\n",
            "  \"usage\": {\n",
            "    \"prompt_tokens\": 219,\n",
            "    \"completion_tokens\": 2,\n",
            "    \"total_tokens\": 221\n",
            "  },\n",
            "  \"choices\": [\n",
            "    {\n",
            "      \"index\": 0,\n",
            "      \"message\": {\n",
            "        \"role\": \"assistant\",\n",
            "        \"content\": \"Yes.\",\n",
            "        \"function_call\": null\n",
            "      },\n",
            "      \"finish_reason\": \"stop\"\n",
            "    }\n",
            "  ]\n",
            "}\n"
          ]
        }
      ],
      "source": [
        "# API Request JSON Cell\n",
        "api_request_json = {\n",
        "    \"model\": MODEL,\n",
        "    \"messages\": [\n",
        "        {\n",
        "            \"role\": \"user\",\n",
        "            \"content\": queryText\n",
        "        }\n",
        "  ]\n",
        "}\n",
        "\n",
        "# Make your request and handle the response\n",
        "response = llama.run(api_request_json)\n",
        "print(json.dumps(response.json(), indent=2))\n"
      ]
    },
    {
      "cell_type": "code",
      "source": [],
      "metadata": {
        "id": "xBw_ySTHEabv"
      },
      "id": "xBw_ySTHEabv",
      "execution_count": null,
      "outputs": []
    }
  ],
  "metadata": {
    "kernelspec": {
      "display_name": "Python 3 (ipykernel)",
      "language": "python",
      "name": "python3"
    },
    "language_info": {
      "codemirror_mode": {
        "name": "ipython",
        "version": 3
      },
      "file_extension": ".py",
      "mimetype": "text/x-python",
      "name": "python",
      "nbconvert_exporter": "python",
      "pygments_lexer": "ipython3",
      "version": "3.9.12"
    },
    "colab": {
      "provenance": [],
      "include_colab_link": true
    }
  },
  "nbformat": 4,
  "nbformat_minor": 5
}